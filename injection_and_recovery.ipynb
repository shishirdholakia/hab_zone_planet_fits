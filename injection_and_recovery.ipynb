{
 "cells": [
  {
   "cell_type": "code",
   "execution_count": null,
   "metadata": {},
   "outputs": [],
   "source": [
    "import dynesty\n",
    "import lightkurve as lk\n",
    "import pandas as pd\n",
    "import numpy as np\n",
    "import matplotlib.pyplot as plt\n",
    "import astropy\n",
    "import os\n",
    "from astropy.table import Table\n",
    "import juliet\n",
    "import math\n",
    "import matplotlib.gridspec as gridspec\n",
    "import batman\n",
    "import scipy.stats as stats\n",
    "#show the table of planet candidates\n",
    "pd.read_csv('EarthAnalogs_20191202.csv')"
   ]
  },
  {
   "cell_type": "code",
   "execution_count": null,
   "metadata": {},
   "outputs": [],
   "source": [
    "#Define which KOI we will get the LC for\n",
    "ROWNUM = 3\n",
    "df = pd.read_csv('EarthAnalogs_20191202.csv')\n",
    "row = df.iloc[ROWNUM]\n",
    "koi = row['KOI']\n"
   ]
  }
 ],
 "metadata": {
  "kernelspec": {
   "display_name": "Python 3",
   "language": "python",
   "name": "python3"
  },
  "language_info": {
   "codemirror_mode": {
    "name": "ipython",
    "version": 3
   },
   "file_extension": ".py",
   "mimetype": "text/x-python",
   "name": "python",
   "nbconvert_exporter": "python",
   "pygments_lexer": "ipython3",
   "version": "3.7.4"
  }
 },
 "nbformat": 4,
 "nbformat_minor": 2
}
